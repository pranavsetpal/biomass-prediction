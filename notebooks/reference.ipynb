{
  "cells": [
    {
      "cell_type": "markdown",
      "metadata": {
        "id": "28R01eNOra9X"
      },
      "source": [
        "In this notebook, we will show you the differents steps to train step by step dly your model in this competition."
      ]
    },
    {
      "cell_type": "markdown",
      "metadata": {
        "id": "BiF5fKp2Qv1d"
      },
      "source": [
        "# Images Extractions"
      ]
    },
    {
      "cell_type": "code",
      "execution_count": null,
      "metadata": {
        "id": "ghyAh0w20yIH"
      },
      "outputs": [],
      "source": [
        "import h5py\n",
        "import matplotlib.pyplot as plt\n",
        "import pandas as pd\n",
        "import numpy as np\n",
        "import warnings\n",
        "warnings.filterwarnings('ignore')"
      ]
    },
    {
      "cell_type": "code",
      "execution_count": null,
      "metadata": {
        "id": "FSbBd9XiQ5q5"
      },
      "outputs": [],
      "source": [
        "!wget -q  https://share.phys.ethz.ch/~pf/albecker/abc/09072022_1154_train.h5\n",
        "!wget -q  https://share.phys.ethz.ch/~pf/albecker/abc/09072022_1154_val.h5\n",
        "!wget -q https://share.phys.ethz.ch/~pf/albecker/abc/09072022_1154_test.h5"
      ]
    },
    {
      "cell_type": "code",
      "execution_count": null,
      "metadata": {
        "id": "k3ZQRlZOQ65B"
      },
      "outputs": [],
      "source": [
        "trainset = h5py.File(\"09072022_1154_train.h5\", \"r\")\n",
        "validateset = h5py.File(\"09072022_1154_val.h5\", \"r\")\n",
        "testset = h5py.File(\"09072022_1154_test.h5\", \"r\")"
      ]
    },
    {
      "cell_type": "code",
      "execution_count": null,
      "metadata": {
        "colab": {
          "base_uri": "https://localhost:8080/"
        },
        "id": "sQnKRSw9RDu6",
        "outputId": "3d338293-e550-45e5-c821-eb008e6961b1"
      },
      "outputs": [
        {
          "output_type": "execute_result",
          "data": {
            "text/plain": [
              "<KeysViewHDF5 ['agbd', 'cloud', 'images', 'lat', 'lon', 'scl']>"
            ]
          },
          "metadata": {},
          "execution_count": 4
        }
      ],
      "source": [
        "# attributes of trainset\n",
        "trainset.keys()"
      ]
    },
    {
      "cell_type": "markdown",
      "metadata": {
        "id": "2rKhoGtGR1Xu"
      },
      "source": [
        "## Explore datasets"
      ]
    },
    {
      "cell_type": "code",
      "execution_count": null,
      "metadata": {
        "id": "YgOvKhevSGNV"
      },
      "outputs": [],
      "source": [
        "# train\n",
        "train_images = np.array(trainset['images'],dtype=np.float64)\n",
        "train_images = train_images.transpose(0,3,1,2)\n",
        "\n",
        "train_biomasses = np.array(trainset['agbd'],dtype=np.float64)\n",
        "\n",
        "# validate\n",
        "validate_images = np.array(validateset['images'],dtype=np.float64)\n",
        "validate_images = validate_images.transpose(0,3,1,2)\n",
        "validate_biomasses = np.array(validateset['agbd'],dtype=np.float64)\n",
        "\n",
        "# test \n",
        "test_images = np.array(testset['images'],dtype=np.float32)\n",
        "test_images = test_images.transpose(0,3,1,2)\n",
        "test_biomasses = np.array(testset['agbd'],dtype=np.float32)"
      ]
    },
    {
      "cell_type": "code",
      "execution_count": null,
      "metadata": {
        "colab": {
          "base_uri": "https://localhost:8080/"
        },
        "id": "Ps-9IeIgSJ4w",
        "outputId": "f15771dd-ebd9-4bcf-b20c-abaeae1a5ac9"
      },
      "outputs": [
        {
          "output_type": "stream",
          "name": "stdout",
          "text": [
            "train dataset size (25036, 12, 15, 15) train lab size (25036,)\n",
            "\n",
            "validate dataset size (5174, 12, 15, 15) validate lab size (5174,)\n",
            "\n",
            "test dataset size (5190, 12, 15, 15) test lab size (5190,)\n"
          ]
        }
      ],
      "source": [
        "print(f\"train dataset size {train_images.shape} train lab size {train_biomasses.shape}\")\n",
        "print()\n",
        "print(f\"validate dataset size {validate_images.shape} validate lab size {validate_biomasses.shape}\")\n",
        "print()\n",
        "print(f\"test dataset size {test_images.shape} test lab size {test_biomasses.shape}\")"
      ]
    },
    {
      "cell_type": "markdown",
      "metadata": {
        "id": "zNdh9lMISRdZ"
      },
      "source": [
        "##  Some visulizations"
      ]
    },
    {
      "cell_type": "code",
      "execution_count": null,
      "metadata": {
        "colab": {
          "base_uri": "https://localhost:8080/",
          "height": 282
        },
        "id": "fp5UpiavSMqn",
        "outputId": "cd55fae6-1366-4f50-e7fd-03dd3b0b1a4c"
      },
      "outputs": [
        {
          "output_type": "execute_result",
          "data": {
            "text/plain": [
              "<matplotlib.image.AxesImage at 0x7f1179500370>"
            ]
          },
          "metadata": {},
          "execution_count": 7
        },
        {
          "output_type": "display_data",
          "data": {
            "text/plain": [
              "<Figure size 432x288 with 1 Axes>"
            ],
            "image/png": "[encoded data removed]"
          },
          "metadata": {
            "needs_background": "light"
          }
        }
      ],
      "source": [
        "plt.imshow(train_images[1,1,:,:])"
      ]
    },
    {
      "cell_type": "code",
      "execution_count": null,
      "metadata": {
        "colab": {
          "base_uri": "https://localhost:8080/"
        },
        "id": "TAFde--LSZR5",
        "outputId": "238a20db-14ef-4d98-c95f-1321b1812ddd"
      },
      "outputs": [
        {
          "output_type": "execute_result",
          "data": {
            "text/plain": [
              "99.10187530517578"
            ]
          },
          "metadata": {},
          "execution_count": 8
        }
      ],
      "source": [
        "train_biomasses[1]"
      ]
    },
    {
      "cell_type": "markdown",
      "metadata": {
        "id": "ffXv4PbxI5QS"
      },
      "source": [
        " **Below we explore the skewness of train dataset in each channel**"
      ]
    },
    {
      "cell_type": "code",
      "execution_count": null,
      "metadata": {
        "id": "CrCKjC-mSmJm"
      },
      "outputs": [],
      "source": [
        "band_skewness = []\n",
        "band_skewness_after_sqrt = []\n",
        "for c in range(12):\n",
        "    #calculate skewness\n",
        "    band_skewness.append(pd.Series(train_images[:,c].flatten()).skew())\n",
        "    #calculate skewness after applying sqrt\n",
        "    band_skewness_after_sqrt.append(pd.Series(np.sqrt(train_images[:,c].flatten())).skew())"
      ]
    },
    {
      "cell_type": "code",
      "execution_count": null,
      "metadata": {
        "colab": {
          "base_uri": "https://localhost:8080/",
          "height": 279
        },
        "id": "mQuF1liYSppT",
        "outputId": "aba041f4-5b60-450c-db70-793ac558a0b8"
      },
      "outputs": [
        {
          "output_type": "display_data",
          "data": {
            "text/plain": [
              "<Figure size 432x288 with 1 Axes>"
            ],
            "image/png": "[encoded data removed]"
          },
          "metadata": {
            "needs_background": "light"
          }
        }
      ],
      "source": [
        "# skweness\n",
        "width = 0.25\n",
        "\n",
        "rng = [i for i in range(0,12)]\n",
        "rng2 = [i+width for i in range(0,12)]\n",
        "\n",
        "plt.bar(rng, band_skewness, align='center', width = width, label='Original', color ='b')\n",
        "plt.bar(rng2, band_skewness_after_sqrt, align='center', width = width, label='After sqrt', color ='g')\n",
        "plt.gca().set_xticks(rng)\n",
        "plt.legend()\n",
        "plt.xlabel('Band ID')\n",
        "plt.ylabel('Skewness')\n",
        "plt.show()"
      ]
    },
    {
      "cell_type": "markdown",
      "metadata": {
        "id": "SYkqo_nDQlzS"
      },
      "source": [
        "# First Baseline With Sklearn"
      ]
    },
    {
      "cell_type": "code",
      "execution_count": null,
      "metadata": {
        "id": "is7xLI-1VzAW"
      },
      "outputs": [],
      "source": [
        "from sklearn.linear_model import LinearRegression,Ridge,Lasso\n",
        "from sklearn.svm import LinearSVR\n",
        "from sklearn.neighbors import KNeighborsRegressor\n",
        "from sklearn.ensemble import RandomForestRegressor, GradientBoostingRegressor\n",
        "from sklearn.model_selection import GridSearchCV\n",
        "from sklearn.pipeline import Pipeline\n",
        "from sklearn.metrics import mean_squared_error\n",
        "from sklearn import model_selection\n",
        "from sklearn.compose import ColumnTransformer\n",
        "from sklearn.impute import SimpleImputer\n",
        "from sklearn.preprocessing import StandardScaler\n",
        "from sklearn.base import BaseEstimator, TransformerMixin"
      ]
    },
    {
      "cell_type": "code",
      "execution_count": null,
      "metadata": {
        "id": "t54SAWW6pr1S"
      },
      "outputs": [],
      "source": [
        "from sklearn import set_config\n",
        "set_config(display='diagram')"
      ]
    },
    {
      "cell_type": "markdown",
      "metadata": {
        "id": "PVAxS2EwqKiW"
      },
      "source": [
        "## Modelisation"
      ]
    },
    {
      "cell_type": "markdown",
      "metadata": {
        "id": "wtNBm3d1qM1x"
      },
      "source": [
        "### Pipeline of training"
      ]
    },
    {
      "cell_type": "code",
      "execution_count": null,
      "metadata": {
        "id": "T3OrinVvV3-8"
      },
      "outputs": [],
      "source": [
        "# constante for standardization\n",
        "MEAN = train_images.mean((0,2,3))\n",
        "STD = train_images.std((0,2,3))"
      ]
    },
    {
      "cell_type": "code",
      "execution_count": null,
      "metadata": {
        "id": "FC2Gb-3cQDcO"
      },
      "outputs": [],
      "source": [
        "class CustomScaler(BaseEstimator, TransformerMixin):\n",
        "  def __init__(self,mean,std):\n",
        "    self.mean = mean\n",
        "    self.std = std\n",
        "  \n",
        "  def fit(self, X, y=None):\n",
        "    #self.mean = X.mean((0,2,3)) \n",
        "    #self.std = X.std((0,2,3))\n",
        "    return self\n",
        "\n",
        "  def transform(self, X, y=None):\n",
        "    return (X-self.mean[None,:,None,None])/self.std[None,:,None,None] \n",
        "\n",
        "    \n",
        "class FlattenTransformer(BaseEstimator, TransformerMixin):\n",
        "\n",
        "  def fit(self, X, y=None):\n",
        "    return self\n",
        "\n",
        "  def transform(self, X, y=None):\n",
        "    return X.reshape((X.shape[0], -1))\n",
        "\n",
        "\n",
        "pipe = Pipeline(steps=[(\"scaler\", CustomScaler(MEAN,STD)),\n",
        "                       (\"flatten\", FlattenTransformer()),\n",
        "                       (\"classifier\", Lasso())\n",
        "])"
      ]
    },
    {
      "cell_type": "code",
      "execution_count": null,
      "metadata": {
        "colab": {
          "base_uri": "https://localhost:8080/",
          "height": 161
        },
        "id": "Ii56ZHoXmx5p",
        "outputId": "6788eb0b-59c4-4c14-e7c8-40d09b04b966"
      },
      "outputs": [
        {
          "output_type": "execute_result",
          "data": {
            "text/plain": [
              "Pipeline(steps=[('scaler',\n",
              "                 CustomScaler(mean=array([ 644.62522678,  675.00465197,  887.51322647,  649.01398076,\n",
              "       1230.65511708, 3005.58275568, 3717.91194245, 3626.2871387 ,\n",
              "       3999.28166498, 4109.51322682, 2262.52644121, 1253.58153468]),\n",
              "                              std=array([ 575.97684675,  570.30180631,  536.11125314,  550.22417005,\n",
              "        557.76750885,  777.03590322,  935.15224447,  949.36012986,\n",
              "        988.61001558, 1096.67397739,  671.68692054,  590.6012704 ]))),\n",
              "                ('flatten', FlattenTransformer()),\n",
              "                ('classifier', LinearRegression())])"
            ],
            "text/html": [
              "<style>#sk-4dbe3325-54f7-4502-9dac-372ef32aa8d3 {color: black;background-color: white;}#sk-4dbe3325-54f7-4502-9dac-372ef32aa8d3 pre{padding: 0;}#sk-4dbe3325-54f7-4502-9dac-372ef32aa8d3 div.sk-toggleable {background-color: white;}#sk-4dbe3325-54f7-4502-9dac-372ef32aa8d3 label.sk-toggleable__label {cursor: pointer;display: block;width: 100%;margin-bottom: 0;padding: 0.3em;box-sizing: border-box;text-align: center;}#sk-4dbe3325-54f7-4502-9dac-372ef32aa8d3 label.sk-toggleable__label-arrow:before {content: \"▸\";float: left;margin-right: 0.25em;color: #696969;}#sk-4dbe3325-54f7-4502-9dac-372ef32aa8d3 label.sk-toggleable__label-arrow:hover:before {color: black;}#sk-4dbe3325-54f7-4502-9dac-372ef32aa8d3 div.sk-estimator:hover label.sk-toggleable__label-arrow:before {color: black;}#sk-4dbe3325-54f7-4502-9dac-372ef32aa8d3 div.sk-toggleable__content {max-height: 0;max-width: 0;overflow: hidden;text-align: left;background-color: #f0f8ff;}#sk-4dbe3325-54f7-4502-9dac-372ef32aa8d3 div.sk-toggleable__content pre {margin: 0.2em;color: black;border-radius: 0.25em;background-color: #f0f8ff;}#sk-4dbe3325-54f7-4502-9dac-372ef32aa8d3 input.sk-toggleable__control:checked~div.sk-toggleable__content {max-height: 200px;max-width: 100%;overflow: auto;}#sk-4dbe3325-54f7-4502-9dac-372ef32aa8d3 input.sk-toggleable__control:checked~label.sk-toggleable__label-arrow:before {content: \"▾\";}#sk-4dbe3325-54f7-4502-9dac-372ef32aa8d3 div.sk-estimator input.sk-toggleable__control:checked~label.sk-toggleable__label {background-color: #d4ebff;}#sk-4dbe3325-54f7-4502-9dac-372ef32aa8d3 div.sk-label input.sk-toggleable__control:checked~label.sk-toggleable__label {background-color: #d4ebff;}#sk-4dbe3325-54f7-4502-9dac-372ef32aa8d3 input.sk-hidden--visually {border: 0;clip: rect(1px 1px 1px 1px);clip: rect(1px, 1px, 1px, 1px);height: 1px;margin: -1px;overflow: hidden;padding: 0;position: absolute;width: 1px;}#sk-4dbe3325-54f7-4502-9dac-372ef32aa8d3 div.sk-estimator {font-family: monospace;background-color: #f0f8ff;border: 1px dotted black;border-radius: 0.25em;box-sizing: border-box;margin-bottom: 0.5em;}#sk-4dbe3325-54f7-4502-9dac-372ef32aa8d3 div.sk-estimator:hover {background-color: #d4ebff;}#sk-4dbe3325-54f7-4502-9dac-372ef32aa8d3 div.sk-parallel-item::after {content: \"\";width: 100%;border-bottom: 1px solid gray;flex-grow: 1;}#sk-4dbe3325-54f7-4502-9dac-372ef32aa8d3 div.sk-label:hover label.sk-toggleable__label {background-color: #d4ebff;}#sk-4dbe3325-54f7-4502-9dac-372ef32aa8d3 div.sk-serial::before {content: \"\";position: absolute;border-left: 1px solid gray;box-sizing: border-box;top: 2em;bottom: 0;left: 50%;}#sk-4dbe3325-54f7-4502-9dac-372ef32aa8d3 div.sk-serial {display: flex;flex-direction: column;align-items: center;background-color: white;padding-right: 0.2em;padding-left: 0.2em;}#sk-4dbe3325-54f7-4502-9dac-372ef32aa8d3 div.sk-item {z-index: 1;}#sk-4dbe3325-54f7-4502-9dac-372ef32aa8d3 div.sk-parallel {display: flex;align-items: stretch;justify-content: center;background-color: white;}#sk-4dbe3325-54f7-4502-9dac-372ef32aa8d3 div.sk-parallel::before {content: \"\";position: absolute;border-left: 1px solid gray;box-sizing: border-box;top: 2em;bottom: 0;left: 50%;}#sk-4dbe3325-54f7-4502-9dac-372ef32aa8d3 div.sk-parallel-item {display: flex;flex-direction: column;position: relative;background-color: white;}#sk-4dbe3325-54f7-4502-9dac-372ef32aa8d3 div.sk-parallel-item:first-child::after {align-self: flex-end;width: 50%;}#sk-4dbe3325-54f7-4502-9dac-372ef32aa8d3 div.sk-parallel-item:last-child::after {align-self: flex-start;width: 50%;}#sk-4dbe3325-54f7-4502-9dac-372ef32aa8d3 div.sk-parallel-item:only-child::after {width: 0;}#sk-4dbe3325-54f7-4502-9dac-372ef32aa8d3 div.sk-dashed-wrapped {border: 1px dashed gray;margin: 0 0.4em 0.5em 0.4em;box-sizing: border-box;padding-bottom: 0.4em;background-color: white;position: relative;}#sk-4dbe3325-54f7-4502-9dac-372ef32aa8d3 div.sk-label label {font-family: monospace;font-weight: bold;background-color: white;display: inline-block;line-height: 1.2em;}#sk-4dbe3325-54f7-4502-9dac-372ef32aa8d3 div.sk-label-container {position: relative;z-index: 2;text-align: center;}#sk-4dbe3325-54f7-4502-9dac-372ef32aa8d3 div.sk-container {/* jupyter's `normalize.less` sets `[hidden] { display: none; }` but bootstrap.min.css set `[hidden] { display: none !important; }` so we also need the `!important` here to be able to override the default hidden behavior on the sphinx rendered scikit-learn.org. See: https://github.com/scikit-learn/scikit-learn/issues/21755 */display: inline-block !important;position: relative;}#sk-4dbe3325-54f7-4502-9dac-372ef32aa8d3 div.sk-text-repr-fallback {display: none;}</style><div id=\"sk-4dbe3325-54f7-4502-9dac-372ef32aa8d3\" class=\"sk-top-container\"><div class=\"sk-text-repr-fallback\"><pre>Pipeline(steps=[(&#x27;scaler&#x27;,\n",
              "                 CustomScaler(mean=array([ 644.62522678,  675.00465197,  887.51322647,  649.01398076,\n",
              "       1230.65511708, 3005.58275568, 3717.91194245, 3626.2871387 ,\n",
              "       3999.28166498, 4109.51322682, 2262.52644121, 1253.58153468]),\n",
              "                              std=array([ 575.97684675,  570.30180631,  536.11125314,  550.22417005,\n",
              "        557.76750885,  777.03590322,  935.15224447,  949.36012986,\n",
              "        988.61001558, 1096.67397739,  671.68692054,  590.6012704 ]))),\n",
              "                (&#x27;flatten&#x27;, FlattenTransformer()),\n",
              "                (&#x27;classifier&#x27;, LinearRegression())])</pre><b>Please rerun this cell to show the HTML repr or trust the notebook.</b></div><div class=\"sk-container\" hidden><div class=\"sk-item sk-dashed-wrapped\"><div class=\"sk-label-container\"><div class=\"sk-label sk-toggleable\"><input class=\"sk-toggleable__control sk-hidden--visually\" id=\"5f4fbdf5-2208-413b-b0a2-5b787803dacd\" type=\"checkbox\" ><label for=\"5f4fbdf5-2208-413b-b0a2-5b787803dacd\" class=\"sk-toggleable__label sk-toggleable__label-arrow\">Pipeline</label><div class=\"sk-toggleable__content\"><pre>Pipeline(steps=[(&#x27;scaler&#x27;,\n",
              "                 CustomScaler(mean=array([ 644.62522678,  675.00465197,  887.51322647,  649.01398076,\n",
              "       1230.65511708, 3005.58275568, 3717.91194245, 3626.2871387 ,\n",
              "       3999.28166498, 4109.51322682, 2262.52644121, 1253.58153468]),\n",
              "                              std=array([ 575.97684675,  570.30180631,  536.11125314,  550.22417005,\n",
              "        557.76750885,  777.03590322,  935.15224447,  949.36012986,\n",
              "        988.61001558, 1096.67397739,  671.68692054,  590.6012704 ]))),\n",
              "                (&#x27;flatten&#x27;, FlattenTransformer()),\n",
              "                (&#x27;classifier&#x27;, LinearRegression())])</pre></div></div></div><div class=\"sk-serial\"><div class=\"sk-item\"><div class=\"sk-estimator sk-toggleable\"><input class=\"sk-toggleable__control sk-hidden--visually\" id=\"6c2634a3-61fe-4cc6-9d36-14751ecf7212\" type=\"checkbox\" ><label for=\"6c2634a3-61fe-4cc6-9d36-14751ecf7212\" class=\"sk-toggleable__label sk-toggleable__label-arrow\">CustomScaler</label><div class=\"sk-toggleable__content\"><pre>CustomScaler(mean=array([ 644.62522678,  675.00465197,  887.51322647,  649.01398076,\n",
              "       1230.65511708, 3005.58275568, 3717.91194245, 3626.2871387 ,\n",
              "       3999.28166498, 4109.51322682, 2262.52644121, 1253.58153468]),\n",
              "             std=array([ 575.97684675,  570.30180631,  536.11125314,  550.22417005,\n",
              "        557.76750885,  777.03590322,  935.15224447,  949.36012986,\n",
              "        988.61001558, 1096.67397739,  671.68692054,  590.6012704 ]))</pre></div></div></div><div class=\"sk-item\"><div class=\"sk-estimator sk-toggleable\"><input class=\"sk-toggleable__control sk-hidden--visually\" id=\"0a67bb54-d62a-4ada-8235-c81222a28c0f\" type=\"checkbox\" ><label for=\"0a67bb54-d62a-4ada-8235-c81222a28c0f\" class=\"sk-toggleable__label sk-toggleable__label-arrow\">FlattenTransformer</label><div class=\"sk-toggleable__content\"><pre>FlattenTransformer()</pre></div></div></div><div class=\"sk-item\"><div class=\"sk-estimator sk-toggleable\"><input class=\"sk-toggleable__control sk-hidden--visually\" id=\"addb5dcd-f371-4d22-ac7f-19692917bc12\" type=\"checkbox\" ><label for=\"addb5dcd-f371-4d22-ac7f-19692917bc12\" class=\"sk-toggleable__label sk-toggleable__label-arrow\">LinearRegression</label><div class=\"sk-toggleable__content\"><pre>LinearRegression()</pre></div></div></div></div></div></div></div>"
            ]
          },
          "metadata": {},
          "execution_count": 27
        }
      ],
      "source": [
        "pipe.fit(train_images,train_biomasses)"
      ]
    },
    {
      "cell_type": "code",
      "execution_count": null,
      "metadata": {
        "colab": {
          "base_uri": "https://localhost:8080/"
        },
        "id": "61dZDV4Dmx-h",
        "outputId": "a0fb0b78-282f-4ddd-f41e-2461f96edad9"
      },
      "outputs": [
        {
          "output_type": "execute_result",
          "data": {
            "text/plain": [
              "3023.555305378208"
            ]
          },
          "metadata": {},
          "execution_count": 16
        }
      ],
      "source": [
        "# predict\n",
        "pred_train = pipe.predict(train_images)\n",
        "\n",
        "# train mse error\n",
        "mse = mean_squared_error(train_biomasses, pred_train) \n",
        "mse\n",
        "#rmse = np.sqrt(mse)"
      ]
    },
    {
      "cell_type": "code",
      "execution_count": null,
      "metadata": {
        "colab": {
          "base_uri": "https://localhost:8080/"
        },
        "id": "T17ZqXTop6DJ",
        "outputId": "1f5c88fb-da7a-4809-fb5f-4f595de967b8"
      },
      "outputs": [
        {
          "output_type": "execute_result",
          "data": {
            "text/plain": [
              "3961.942859655493"
            ]
          },
          "metadata": {},
          "execution_count": 17
        }
      ],
      "source": [
        "# predict\n",
        "pred_validate = pipe.predict(validate_images)\n",
        "\n",
        "#  validate mse error\n",
        "mse = mean_squared_error(validate_biomasses, pred_validate) \n",
        "mse\n",
        "#rmse = np.sqrt(mse)"
      ]
    },
    {
      "cell_type": "markdown",
      "metadata": {
        "id": "MjL1gMrGqSwY"
      },
      "source": [
        "### Gridsearch"
      ]
    },
    {
      "cell_type": "code",
      "execution_count": null,
      "metadata": {
        "colab": {
          "base_uri": "https://localhost:8080/",
          "height": 69
        },
        "id": "bZZ00__izp6T",
        "outputId": "0ae79fb0-eccb-49b4-9ed8-670036ce082b"
      },
      "outputs": [
        {
          "output_type": "execute_result",
          "data": {
            "text/plain": [
              "\"\\nparam5 = {}\\nparam5['classifier__C'] = [10**-2, 10**-1, 10**0, 10**1, 10**2]\\nparam5['classifier__epsilon'] = [0.0,0.2,0.5,1]\\nparam5['classifier'] = [LinearSVR()]\\n\""
            ],
            "application/vnd.google.colaboratory.intrinsic+json": {
              "type": "string"
            }
          },
          "metadata": {},
          "execution_count": 18
        }
      ],
      "source": [
        "# Initiaze the hyperparameters for each dictionary\n",
        "param1 = {}\n",
        "param1['classifier'] = [LinearRegression()]\n",
        "\n",
        "param2 = {}\n",
        "param2['classifier__alpha'] = [0.1, 0.5, 1]\n",
        "param2['classifier'] = [Ridge()]\n",
        "\n",
        "param3 = {}\n",
        "param3['classifier__alpha'] = [0.1, 0.5, 1]\n",
        "param3['classifier'] = [Lasso()]\n",
        "\n",
        "param4 = {}\n",
        "param4['classifier__n_neighbors'] = [2,5,10,25,50]\n",
        "param4['classifier'] = [KNeighborsRegressor()]\n",
        "\n",
        "\"\"\"\n",
        "param5 = {}\n",
        "param5['classifier__C'] = [10**-2, 10**-1, 10**0, 10**1, 10**2]\n",
        "param5['classifier__epsilon'] = [0.0,0.2,0.5,1]\n",
        "param5['classifier'] = [LinearSVR()]\n",
        "\"\"\""
      ]
    },
    {
      "cell_type": "code",
      "execution_count": null,
      "metadata": {
        "id": "ptJz-yeCNYzM"
      },
      "outputs": [],
      "source": [
        "pipeline = pipe = Pipeline(steps=[(\"scaler\", CustomScaler(MEAN,STD)),\n",
        "                       (\"flatten\", FlattenTransformer()),\n",
        "                       (\"classifier\", LinearRegression())])\n",
        "params = [param1, param2, param3, param4] # param5\n"
      ]
    },
    {
      "cell_type": "code",
      "execution_count": null,
      "metadata": {
        "id": "f3NqYDHctRC5"
      },
      "outputs": [],
      "source": [
        "# Train the grid search model\n",
        "grid_search = GridSearchCV(pipeline, params, cv=3, scoring='neg_mean_squared_error').fit(train_images,train_biomasses)"
      ]
    },
    {
      "cell_type": "code",
      "execution_count": null,
      "metadata": {
        "id": "GKM3uy2Cth2W",
        "colab": {
          "base_uri": "https://localhost:8080/"
        },
        "outputId": "9f7aa442-8b03-4dde-855d-3cba209d5c99"
      },
      "outputs": [
        {
          "output_type": "execute_result",
          "data": {
            "text/plain": [
              "{'classifier': Lasso(alpha=0.1), 'classifier__alpha': 0.1}"
            ]
          },
          "metadata": {},
          "execution_count": 21
        }
      ],
      "source": [
        "# Best performing model and its corresponding hyperparameters\n",
        "grid_search.best_params_"
      ]
    },
    {
      "cell_type": "code",
      "execution_count": null,
      "metadata": {
        "id": "Ohdx1LKttk2y",
        "colab": {
          "base_uri": "https://localhost:8080/"
        },
        "outputId": "6fed3db9-e3a3-4050-b908-287fffe1ce5f"
      },
      "outputs": [
        {
          "output_type": "stream",
          "name": "stdout",
          "text": [
            "2802.6255438618155 52.939829465741724\n"
          ]
        }
      ],
      "source": [
        "model = grid_search.best_estimator_\n",
        "# predict\n",
        "pred = model.predict(train_images)\n",
        "\n",
        "# validate mse error\n",
        "mse = mean_squared_error(train_biomasses, pred) \n",
        "rmse = np.sqrt(mse)\n",
        "\n",
        "print(mse, rmse)"
      ]
    },
    {
      "cell_type": "code",
      "execution_count": null,
      "metadata": {
        "id": "3vFO06ZYISof",
        "colab": {
          "base_uri": "https://localhost:8080/"
        },
        "outputId": "be112bb4-96c5-46de-c91e-0c877be541a9"
      },
      "outputs": [
        {
          "output_type": "stream",
          "name": "stdout",
          "text": [
            "3790.385611052348 61.56610764903323\n"
          ]
        }
      ],
      "source": [
        "model = grid_search.best_estimator_\n",
        "# predict\n",
        "pred = model.predict(validate_images)\n",
        "\n",
        "# validate mse error\n",
        "mse = mean_squared_error(validate_biomasses, pred) \n",
        "rmse = np.sqrt(mse)\n",
        "\n",
        "print(mse, rmse)"
      ]
    },
    {
      "cell_type": "markdown",
      "metadata": {
        "id": "pdAypOP5BkR_"
      },
      "source": [
        "### Predict GIZ Biomass"
      ]
    },
    {
      "cell_type": "code",
      "execution_count": null,
      "metadata": {
        "id": "5LDX4p2XBoz2"
      },
      "outputs": [],
      "source": [
        "s2_images_h5 = h5py.File(\"images_test.h5\", \"r\")"
      ]
    },
    {
      "cell_type": "code",
      "execution_count": null,
      "metadata": {
        "id": "PG3shy0oDS4A"
      },
      "outputs": [],
      "source": [
        "#prepare test set sentinel 2 images \n",
        "s2_images = np.array(s2_images_h5[\"images\"])\n",
        "s2_images = s2_images.transpose(0,3,1,2)"
      ]
    },
    {
      "cell_type": "code",
      "execution_count": null,
      "metadata": {
        "id": "F5uan3E8DpEU"
      },
      "outputs": [],
      "source": [
        "# predict on giz test data\n",
        "pred_giz = pipe.predict(s2_images)"
      ]
    },
    {
      "cell_type": "code",
      "execution_count": null,
      "metadata": {
        "id": "WD4IyJWvGgzo"
      },
      "outputs": [],
      "source": [
        "ID_S2_pair = pd.read_csv('/content/UniqueID-SentinelPair.csv')\n",
        "\n",
        "preds = pd.DataFrame({'Target':pred_giz}).rename_axis('S2_idx').reset_index()\n",
        "preds = ID_S2_pair.merge(preds, on='S2_idx').drop(columns=['S2_idx'])"
      ]
    },
    {
      "cell_type": "code",
      "execution_count": null,
      "metadata": {
        "id": "_zMlJsmG-rMO"
      },
      "outputs": [],
      "source": [
        "preds.to_csv('GIZ_Biomass_predictions.csv', index=False)"
      ]
    },
    {
      "cell_type": "code",
      "execution_count": null,
      "metadata": {
        "id": "9AYlcFAhTiHi",
        "colab": {
          "base_uri": "https://localhost:8080/",
          "height": 424
        },
        "outputId": "d75e5866-c22c-47ee-bcbf-de8158a0969b"
      },
      "outputs": [
        {
          "output_type": "execute_result",
          "data": {
            "text/plain": [
              "               ID     Target\n",
              "0   ID_1EB0DGFP07  16.787736\n",
              "1   ID_844T2PSXTK  32.943749\n",
              "2   ID_4MCV3S8MLN  29.671619\n",
              "3   ID_L7441JV5F3   7.994377\n",
              "4   ID_5GUVM4YEWZ  72.830497\n",
              "..            ...        ...\n",
              "85  ID_MEW6189J1B  44.607954\n",
              "86  ID_TH9HRUXGTP  92.693250\n",
              "87  ID_GPC7YS3JG8  46.822728\n",
              "88  ID_1P7PJMPV0R  53.105612\n",
              "89  ID_NTFSOIOEOG  71.931641\n",
              "\n",
              "[90 rows x 2 columns]"
            ],
            "text/html": [
              "\n",
              "  <div id=\"df-302c15ad-8e1f-45ea-a041-7cbcb1179585\">\n",
              "    <div class=\"colab-df-container\">\n",
              "      <div>\n",
              "<style scoped>\n",
              "    .dataframe tbody tr th:only-of-type {\n",
              "        vertical-align: middle;\n",
              "    }\n",
              "\n",
              "    .dataframe tbody tr th {\n",
              "        vertical-align: top;\n",
              "    }\n",
              "\n",
              "    .dataframe thead th {\n",
              "        text-align: right;\n",
              "    }\n",
              "</style>\n",
              "<table border=\"1\" class=\"dataframe\">\n",
              "  <thead>\n",
              "    <tr style=\"text-align: right;\">\n",
              "      <th></th>\n",
              "      <th>ID</th>\n",
              "      <th>Target</th>\n",
              "    </tr>\n",
              "  </thead>\n",
              "  <tbody>\n",
              "    <tr>\n",
              "      <th>0</th>\n",
              "      <td>ID_1EB0DGFP07</td>\n",
              "      <td>16.787736</td>\n",
              "    </tr>\n",
              "    <tr>\n",
              "      <th>1</th>\n",
              "      <td>ID_844T2PSXTK</td>\n",
              "      <td>32.943749</td>\n",
              "    </tr>\n",
              "    <tr>\n",
              "      <th>2</th>\n",
              "      <td>ID_4MCV3S8MLN</td>\n",
              "      <td>29.671619</td>\n",
              "    </tr>\n",
              "    <tr>\n",
              "      <th>3</th>\n",
              "      <td>ID_L7441JV5F3</td>\n",
              "      <td>7.994377</td>\n",
              "    </tr>\n",
              "    <tr>\n",
              "      <th>4</th>\n",
              "      <td>ID_5GUVM4YEWZ</td>\n",
              "      <td>72.830497</td>\n",
              "    </tr>\n",
              "    <tr>\n",
              "      <th>...</th>\n",
              "      <td>...</td>\n",
              "      <td>...</td>\n",
              "    </tr>\n",
              "    <tr>\n",
              "      <th>85</th>\n",
              "      <td>ID_MEW6189J1B</td>\n",
              "      <td>44.607954</td>\n",
              "    </tr>\n",
              "    <tr>\n",
              "      <th>86</th>\n",
              "      <td>ID_TH9HRUXGTP</td>\n",
              "      <td>92.693250</td>\n",
              "    </tr>\n",
              "    <tr>\n",
              "      <th>87</th>\n",
              "      <td>ID_GPC7YS3JG8</td>\n",
              "      <td>46.822728</td>\n",
              "    </tr>\n",
              "    <tr>\n",
              "      <th>88</th>\n",
              "      <td>ID_1P7PJMPV0R</td>\n",
              "      <td>53.105612</td>\n",
              "    </tr>\n",
              "    <tr>\n",
              "      <th>89</th>\n",
              "      <td>ID_NTFSOIOEOG</td>\n",
              "      <td>71.931641</td>\n",
              "    </tr>\n",
              "  </tbody>\n",
              "</table>\n",
              "<p>90 rows × 2 columns</p>\n",
              "</div>\n",
              "      <button class=\"colab-df-convert\" onclick=\"convertToInteractive('df-302c15ad-8e1f-45ea-a041-7cbcb1179585')\"\n",
              "              title=\"Convert this dataframe to an interactive table.\"\n",
              "              style=\"display:none;\">\n",
              "        \n",
              "  <svg xmlns=\"http://www.w3.org/2000/svg\" height=\"24px\"viewBox=\"0 0 24 24\"\n",
              "       width=\"24px\">\n",
              "    <path d=\"M0 0h24v24H0V0z\" fill=\"none\"/>\n",
              "    <path d=\"M18.56 5.44l.94 2.06.94-2.06 2.06-.94-2.06-.94-.94-2.06-.94 2.06-2.06.94zm-11 1L8.5 8.5l.94-2.06 2.06-.94-2.06-.94L8.5 2.5l-.94 2.06-2.06.94zm10 10l.94 2.06.94-2.06 2.06-.94-2.06-.94-.94-2.06-.94 2.06-2.06.94z\"/><path d=\"M17.41 7.96l-1.37-1.37c-.4-.4-.92-.59-1.43-.59-.52 0-1.04.2-1.43.59L10.3 9.45l-7.72 7.72c-.78.78-.78 2.05 0 2.83L4 21.41c.39.39.9.59 1.41.59.51 0 1.02-.2 1.41-.59l7.78-7.78 2.81-2.81c.8-.78.8-2.07 0-2.86zM5.41 20L4 18.59l7.72-7.72 1.47 1.35L5.41 20z\"/>\n",
              "  </svg>\n",
              "      </button>\n",
              "      \n",
              "  <style>\n",
              "    .colab-df-container {\n",
              "      display:flex;\n",
              "      flex-wrap:wrap;\n",
              "      gap: 12px;\n",
              "    }\n",
              "\n",
              "    .colab-df-convert {\n",
              "      background-color: #E8F0FE;\n",
              "      border: none;\n",
              "      border-radius: 50%;\n",
              "      cursor: pointer;\n",
              "      display: none;\n",
              "      fill: #1967D2;\n",
              "      height: 32px;\n",
              "      padding: 0 0 0 0;\n",
              "      width: 32px;\n",
              "    }\n",
              "\n",
              "    .colab-df-convert:hover {\n",
              "      background-color: #E2EBFA;\n",
              "      box-shadow: 0px 1px 2px rgba(60, 64, 67, 0.3), 0px 1px 3px 1px rgba(60, 64, 67, 0.15);\n",
              "      fill: #174EA6;\n",
              "    }\n",
              "\n",
              "    [theme=dark] .colab-df-convert {\n",
              "      background-color: #3B4455;\n",
              "      fill: #D2E3FC;\n",
              "    }\n",
              "\n",
              "    [theme=dark] .colab-df-convert:hover {\n",
              "      background-color: #434B5C;\n",
              "      box-shadow: 0px 1px 3px 1px rgba(0, 0, 0, 0.15);\n",
              "      filter: drop-shadow(0px 1px 2px rgba(0, 0, 0, 0.3));\n",
              "      fill: #FFFFFF;\n",
              "    }\n",
              "  </style>\n",
              "\n",
              "      <script>\n",
              "        const buttonEl =\n",
              "          document.querySelector('#df-302c15ad-8e1f-45ea-a041-7cbcb1179585 button.colab-df-convert');\n",
              "        buttonEl.style.display =\n",
              "          google.colab.kernel.accessAllowed ? 'block' : 'none';\n",
              "\n",
              "        async function convertToInteractive(key) {\n",
              "          const element = document.querySelector('#df-302c15ad-8e1f-45ea-a041-7cbcb1179585');\n",
              "          const dataTable =\n",
              "            await google.colab.kernel.invokeFunction('convertToInteractive',\n",
              "                                                     [key], {});\n",
              "          if (!dataTable) return;\n",
              "\n",
              "          const docLinkHtml = 'Like what you see? Visit the ' +\n",
              "            '<a target=\"_blank\" href=https://colab.research.google.com/notebooks/data_table.ipynb>data table notebook</a>'\n",
              "            + ' to learn more about interactive tables.';\n",
              "          element.innerHTML = '';\n",
              "          dataTable['output_type'] = 'display_data';\n",
              "          await google.colab.output.renderOutput(dataTable, element);\n",
              "          const docLink = document.createElement('div');\n",
              "          docLink.innerHTML = docLinkHtml;\n",
              "          element.appendChild(docLink);\n",
              "        }\n",
              "      </script>\n",
              "    </div>\n",
              "  </div>\n",
              "  "
            ]
          },
          "metadata": {},
          "execution_count": 35
        }
      ],
      "source": [
        "preds"
      ]
    },
    {
      "cell_type": "code",
      "source": [
        "!python --version"
      ],
      "metadata": {
        "colab": {
          "base_uri": "https://localhost:8080/"
        },
        "id": "3a0SKxWoZ3-z",
        "outputId": "6688a86d-27f9-415b-d030-7f834abe26cf"
      },
      "execution_count": null,
      "outputs": [
        {
          "output_type": "stream",
          "name": "stdout",
          "text": [
            "Python 3.8.10\n"
          ]
        }
      ]
    }
  ],
  "metadata": {
    "colab": {
      "provenance": []
    },
    "kernelspec": {
      "display_name": "Python 3",
      "language": "python",
      "name": "python3"
    },
    "language_info": {
      "codemirror_mode": {
        "name": "ipython",
        "version": 3
      },
      "file_extension": ".py",
      "mimetype": "text/x-python",
      "name": "python",
      "nbconvert_exporter": "python",
      "pygments_lexer": "ipython3",
      "version": "3.7.3"
    }
  },
  "nbformat": 4,
  "nbformat_minor": 0
}